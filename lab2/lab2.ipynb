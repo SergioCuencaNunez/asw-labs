{
 "cells": [
  {
   "cell_type": "markdown",
   "metadata": {},
   "source": [
    "#  <span style=\"font-family: Latin Modern Roman; font-size: 35px; font-weight: bold;\"> Práctica 2. Limpieza de Datos </span>"
   ]
  },
  {
   "cell_type": "markdown",
   "metadata": {},
   "source": [
    "---"
   ]
  },
  {
   "cell_type": "code",
   "execution_count": 13,
   "metadata": {},
   "outputs": [],
   "source": [
    "import re\n",
    "import nltk\n",
    "import requests\n",
    "from bs4 import BeautifulSoup\n",
    "from googletrans import Translator\n",
    "from nltk.tokenize import word_tokenize\n",
    "from nltk.corpus import stopwords\n",
    "from nltk.stem import WordNetLemmatizer"
   ]
  },
  {
   "cell_type": "markdown",
   "metadata": {},
   "source": [
    "## <span style=\"font-family: Latin Modern Roman; font-size: 25px;\"> 1. Obtener una traducción del párrafo de ejemplo al español </span>"
   ]
  },
  {
   "cell_type": "code",
   "execution_count": 3,
   "metadata": {},
   "outputs": [],
   "source": [
    "# Paragraph in English\n",
    "sample_paragraph_eng = \"\"\"The most merciful thing in the world, I think, is the inability of the human mind to correlate all its contents. We live on a placid island of ignorance in the midst of black seas of infinity, and it was not meant that we should voyage far. The sciences, each straining in its own direction, have hitherto harmed us little; but some day the piecing together of dissociated knowledge will open up such terrifying vistas of reality, and of our frightful position therein, that we shall either go mad from the revelation or flee from the deadly light into the peace and safety of a new dark age. Theosophists have guessed at the awesome grandeur of the cosmic cycle wherein our world and human race form transient incidents. They have hinted at strange survivals in terms which would freeze the blood if not masked by a bland optimism. But it is not from them that there came the single glimpse of forbidden aeons which chills me when I think of it and maddens me when I dream of it. That glimpse, like all dread glimpses of truth, flashed out from an accidental piecing together of separated things—in this case an old newspaper item and the notes of a dead professor. I hope that no one else will accomplish this piecing out; certainly, if I live, I shall never knowingly supply a link in so hideous a chain. I think that the professor, too, intended to keep silent regarding the part he knew, and that he would have destroyed his notes had not sudden death seized him.\"\"\"\n",
    "\n",
    "# Async Translation Function\n",
    "async def translate_text(text, src_lang, dest_lang):\n",
    "    translator = Translator()\n",
    "    translation = await translator.translate(text, src=src_lang, dest=dest_lang)\n",
    "    return translation.text"
   ]
  },
  {
   "cell_type": "code",
   "execution_count": 4,
   "metadata": {},
   "outputs": [
    {
     "name": "stdout",
     "output_type": "stream",
     "text": [
      "Translated Paragraph in Spanish:\n",
      " Creo que lo más misericordioso del mundo es la incapacidad de la mente humana para correlacionar todos sus contenidos. Vivimos en una placida isla de ignorancia en medio de los mares negros del infinito, y no significaba que debamos viajar lejos. Las ciencias, cada una que se esfuerza en su propia dirección, hasta ahora nos han dañado poco; Pero algún día la junta de conocimiento disociado abrirá vistas tan aterradoras de la realidad, y de nuestra espantosa posición en la misma, que nos enojaremos de la revelación o huiremos de la luz mortal a la paz y la seguridad de una nueva edad oscura. . Los teósofos han adivinado en la impresionante grandeza del ciclo cósmico en el que nuestro mundo y la raza humana forman incidentes transitorios. Han insinuado sobrevivientes extrañas en términos que congelarían la sangre si no enmascaran por un optimismo suave. Pero no es de ellos que llegó el único vistazo de los eones prohibidos que me enfría cuando pienso en ello y me enloquece cuando sueño con ello. Esa visión, como todos los temblores de la verdad, apareció de una caza accidental de cosas separadas, en este caso un viejo artículo de periódico y las notas de un profesor muerto. Espero que nadie más logre esto. Ciertamente, si vivo, nunca proporcionaré un enlace a sabiendas en una cadena tan horrible. Creo que el profesor también tenía la intención de guardar silencio con respecto a la parte que conocía, y que él habría destruido sus notas no si la muerte repentina lo hubiera incautado.\n"
     ]
    }
   ],
   "source": [
    "sample_paragraph_esp = await translate_text(sample_paragraph_eng, 'en', 'es')\n",
    "print(\"Translated Paragraph in Spanish:\\n\", sample_paragraph_esp)"
   ]
  },
  {
   "cell_type": "markdown",
   "metadata": {},
   "source": [
    "---"
   ]
  },
  {
   "cell_type": "markdown",
   "metadata": {},
   "source": [
    "## <span style=\"font-family: Latin Modern Roman; font-size: 25px;\"> 2. Obtener una lista de palabras en español y otra en inglés con el resultado de limpiar con los pasos anteriores el párrafo de ejemplo </span>"
   ]
  },
  {
   "cell_type": "code",
   "execution_count": null,
   "metadata": {},
   "outputs": [
    {
     "name": "stderr",
     "output_type": "stream",
     "text": [
      "[nltk_data] Downloading package punkt to\n",
      "[nltk_data]     /Users/sergiocuencanunez/nltk_data...\n",
      "[nltk_data]   Package punkt is already up-to-date!\n",
      "[nltk_data] Downloading package stopwords to\n",
      "[nltk_data]     /Users/sergiocuencanunez/nltk_data...\n",
      "[nltk_data]   Package stopwords is already up-to-date!\n",
      "[nltk_data] Downloading package wordnet to\n",
      "[nltk_data]     /Users/sergiocuencanunez/nltk_data...\n",
      "[nltk_data]   Package wordnet is already up-to-date!\n"
     ]
    }
   ],
   "source": [
    "nltk.download('punkt')\n",
    "nltk.download('stopwords')\n",
    "nltk.download('wordnet')\n",
    "\n",
    "# Lemmatizer and Stopwords\n",
    "lemmatizer = WordNetLemmatizer()\n",
    "stop_words_eng = set(stopwords.words(\"english\"))\n",
    "stop_words_esp = set(stopwords.words(\"spanish\"))\n",
    "\n",
    "# Text Cleaning Function with Language\n",
    "def clean_text(text, language = \"english\"):\n",
    "    if language == \"spanish\":\n",
    "        stop_words = stop_words_esp\n",
    "    else:\n",
    "        stop_words = stop_words_eng\n",
    "\n",
    "    # Remove extra whitespaces\n",
    "    text = re.sub(r'\\s+', ' ', text, flags=re.I)\n",
    "\n",
    "    # Remove special characters\n",
    "    text = re.sub(r'[^a-zA-ZáéíóúÁÉÍÓÚüÜñÑ\\s]', ' ', text)\n",
    "\n",
    "    # Remove single characters\n",
    "    text = re.sub(r'\\s+[a-zA-ZáéíóúüñÁÉÍÓÚÜÑ]\\s+', ' ', text)\n",
    "\n",
    "    # Convert to lowercase\n",
    "    text = text.lower()\n",
    "\n",
    "    # Tokenization\n",
    "    tokens = word_tokenize(text)\n",
    "\n",
    "    # Lemmatization\n",
    "    tokens = [lemmatizer.lemmatize(word) for word in tokens if word not in stop_words]\n",
    "\n",
    "    # Removal of Stop Words & Words with length ≤ 3\n",
    "    tokens = [word for word in tokens if len(word) > 3]\n",
    "\n",
    "    return tokens\n",
    "\n",
    "# Cleaned word lists in English and Spanish\n",
    "words_eng = clean_text(sample_paragraph_eng, language = \"english\")\n",
    "words_es = clean_text(sample_paragraph_esp, language = \"spanish\")"
   ]
  },
  {
   "cell_type": "code",
   "execution_count": 6,
   "metadata": {},
   "outputs": [
    {
     "name": "stdout",
     "output_type": "stream",
     "text": [
      "List of words in English (cleaned):\n",
      " ['merciful', 'thing', 'world', 'think', 'inability', 'human', 'mind', 'correlate', 'content', 'live', 'placid', 'island', 'ignorance', 'midst', 'black', 'infinity', 'meant', 'voyage', 'science', 'straining', 'direction', 'hitherto', 'harmed', 'little', 'piecing', 'together', 'dissociated', 'knowledge', 'open', 'terrifying', 'vista', 'reality', 'frightful', 'position', 'therein', 'shall', 'either', 'revelation', 'flee', 'deadly', 'light', 'peace', 'safety', 'dark', 'theosophist', 'guessed', 'awesome', 'grandeur', 'cosmic', 'cycle', 'wherein', 'world', 'human', 'race', 'form', 'transient', 'incident', 'hinted', 'strange', 'survival', 'term', 'would', 'freeze', 'blood', 'masked', 'bland', 'optimism', 'came', 'single', 'glimpse', 'forbidden', 'aeon', 'chill', 'think', 'maddens', 'dream', 'glimpse', 'like', 'dread', 'glimpse', 'truth', 'flashed', 'accidental', 'piecing', 'together', 'separated', 'thing', 'case', 'newspaper', 'item', 'note', 'dead', 'professor', 'hope', 'else', 'accomplish', 'piecing', 'certainly', 'live', 'shall', 'never', 'knowingly', 'supply', 'link', 'hideous', 'chain', 'think', 'professor', 'intended', 'keep', 'silent', 'regarding', 'part', 'knew', 'would', 'destroyed', 'note', 'sudden', 'death', 'seized']\n",
      "List of words in Spanish (cleaned):\n",
      " ['creo', 'misericordioso', 'mundo', 'incapacidad', 'mente', 'humana', 'correlacionar', 'contenidos', 'vivimos', 'placida', 'isla', 'ignorancia', 'medio', 'mare', 'negro', 'infinito', 'significaba', 'debamos', 'viajar', 'lejos', 'ciencias', 'cada', 'esfuerza', 'propia', 'dirección', 'ahora', 'dañado', 'algún', 'junta', 'conocimiento', 'disociado', 'abrirá', 'vista', 'aterradoras', 'realidad', 'espantosa', 'posición', 'misma', 'enojaremos', 'revelación', 'huiremos', 'mortal', 'seguridad', 'nueva', 'edad', 'oscura', 'teósofos', 'adivinado', 'impresionante', 'grandeza', 'ciclo', 'cósmico', 'mundo', 'raza', 'humana', 'forman', 'incidentes', 'transitorios', 'insinuado', 'sobrevivientes', 'extrañas', 'términos', 'congelarían', 'sangre', 'enmascaran', 'optimismo', 'suave', 'llegó', 'único', 'vistazo', 'eones', 'prohibidos', 'enfría', 'pienso', 'ello', 'enloquece', 'sueño', 'ello', 'visión', 'temblores', 'verdad', 'apareció', 'caza', 'accidental', 'cosas', 'separadas', 'caso', 'viejo', 'artículo', 'periódico', 'notas', 'profesor', 'muerto', 'espero', 'nadie', 'logre', 'ciertamente', 'vivo', 'nunca', 'proporcionaré', 'enlace', 'sabiendas', 'cadena', 'horrible', 'creo', 'profesor', 'intención', 'guardar', 'silencio', 'respecto', 'parte', 'conocía', 'destruido', 'notas', 'muerte', 'repentina', 'incautado']\n"
     ]
    }
   ],
   "source": [
    "print(\"List of words in English (cleaned):\\n\", words_eng)\n",
    "print(\"List of words in Spanish (cleaned):\\n\", words_es)"
   ]
  },
  {
   "cell_type": "markdown",
   "metadata": {},
   "source": [
    "---"
   ]
  },
  {
   "cell_type": "markdown",
   "metadata": {},
   "source": [
    "## <span style=\"font-family: Latin Modern Roman; font-size: 25px;\"> 3. Obtener una lista de palabras con el resultado de limpiar con los pasos anteriores el texto de una web </span>"
   ]
  },
  {
   "cell_type": "code",
   "execution_count": 7,
   "metadata": {},
   "outputs": [],
   "source": [
    "def extract_text_from_website(url):\n",
    "    response = requests.get(url)\n",
    "    if response.status_code == 200:\n",
    "        soup = BeautifulSoup(response.text, 'html.parser')\n",
    "        paragraphs = soup.find_all('p')\n",
    "        full_text = ' '.join([p.text for p in paragraphs])\n",
    "        return full_text\n",
    "    else:\n",
    "        return \"\""
   ]
  },
  {
   "cell_type": "code",
   "execution_count": null,
   "metadata": {},
   "outputs": [
    {
     "name": "stdout",
     "output_type": "stream",
     "text": [
      "List of words from El Mundo (cleaned):\n",
      " ['portada', 'suscríbete', 'suscríbete', 'profesiones', 'exigen', 'dedicación', 'tiempo', 'pasa', 'profesionales', 'sanitarios', 'fundamental', 'recargar', 'pilas', 'llegar', 'casa', 'costaba', 'mundo', 'junto', 'ikea', 'conseguido', 'convertir', 'espacio', 'alma', 'refugio', 'personal', 'proyecto', 'ikea', 'ofrecido', 'vichy']\n"
     ]
    }
   ],
   "source": [
    "web_text = extract_text_from_website(\"https://www.elmundo.es\")\n",
    "cleaned_web_words = clean_text(web_text, language = \"spanish\")\n",
    "print(\"List of words from El Mundo (cleaned):\\n\", cleaned_web_words)"
   ]
  },
  {
   "cell_type": "markdown",
   "metadata": {},
   "source": [
    "---"
   ]
  },
  {
   "cell_type": "markdown",
   "metadata": {},
   "source": [
    "## <span style=\"font-family: Latin Modern Roman; font-size: 25px;\"> 4. Obtener una lista de palabras con el resultado de limpiar con los pasos anteriores las 10 primeras reseñas de la película *Titanic* en *Rotten Tomatoes* </span>"
   ]
  },
  {
   "cell_type": "code",
   "execution_count": 27,
   "metadata": {},
   "outputs": [],
   "source": [
    "def get_rotten_tomatoes_reviews(movie_url, language=\"english\"):\n",
    "    response = requests.get(movie_url)\n",
    "\n",
    "    if response.status_code != 200:\n",
    "        print(\"Error: Unable to access Rotten Tomatoes. Status Code:\", response.status_code)\n",
    "        return []\n",
    "\n",
    "    soup = BeautifulSoup(response.text, 'html.parser')\n",
    "\n",
    "    reviews_divs = soup.find_all('p', class_='review-text')\n",
    "    if not reviews_divs:\n",
    "        print(\"No reviews found. Check if the page structure has changed.\")\n",
    "        return []\n",
    "\n",
    "    reviews_text = ' '.join([review.get_text(strip=True) for review in reviews_divs[:10]])\n",
    "\n",
    "    return clean_text(reviews_text, language)"
   ]
  },
  {
   "cell_type": "code",
   "execution_count": 28,
   "metadata": {},
   "outputs": [
    {
     "name": "stdout",
     "output_type": "stream",
     "text": [
      "List of words from Titanic reviews on Rotten Tomatoes (cleaned):\n",
      " ['thanks', 'inspiring', 'piece', 'captivating', 'romance', 'james', 'cameron', 'titanic', 'remains', 'powerful', 'today', 'year', 'every', 'time', 'watch', 'film', 'piece', 'element', 'make', 'fall', 'love', 'even', 'truly', 'greatest', 'romance', 'seen', 'film', 'largely', 'thanks', 'performer', 'titanic', 'reaching', 'heartstrings', 'well', 'made', 'acted', 'impossible', 'look', 'away', 'cameron', 'skilled', 'creating', 'successful', 'film', 'often', 'perform', 'exceptionally', 'well', 'office', 'titanic', 'exception', 'inspiring', 'life', 'changing', 'love', 'kind', 'perhaps', 'worth', 'boarding', 'titanic', 'still', 'second', 'favourite', 'film', 'time', 'masterpiece', 'fact', 'still', 'talking', 'titanic', 'year', 'release', 'speaks', 'film', 'ship', 'staying', 'power', 'issue', 'fictional', 'love', 'story', 'withstanding', 'titanic', 'remains', 'epic', 'achievement', 'filmmaking', 'colossal', 'ship', 'technically', 'good', 'great', 'visual', 'achievement', 'cheesy', 'fluffy', 'narration', 'full', 'meringue', 'satisfy', 'full', 'review', 'spanish', 'revisiting', 'iconic', 'film', 'blissful', 'experience', 'hold', 'test', 'time']\n"
     ]
    }
   ],
   "source": [
    "rotten_tomatoes_url = \"https://www.rottentomatoes.com/m/titanic/reviews\"\n",
    "titanic_reviews_rt = get_rotten_tomatoes_reviews(rotten_tomatoes_url, language=\"english\")\n",
    "print(\"List of words from Titanic reviews on Rotten Tomatoes (cleaned):\\n\", titanic_reviews_rt)"
   ]
  },
  {
   "cell_type": "markdown",
   "metadata": {},
   "source": [
    "---"
   ]
  },
  {
   "cell_type": "markdown",
   "metadata": {},
   "source": [
    "## <span style=\"font-family: Latin Modern Roman; font-size: 25px;\"> Sergio Cuenca Núñez </span>"
   ]
  }
 ],
 "metadata": {
  "kernelspec": {
   "display_name": "Python 3",
   "language": "python",
   "name": "python3"
  },
  "language_info": {
   "codemirror_mode": {
    "name": "ipython",
    "version": 3
   },
   "file_extension": ".py",
   "mimetype": "text/x-python",
   "name": "python",
   "nbconvert_exporter": "python",
   "pygments_lexer": "ipython3",
   "version": "3.11.11"
  }
 },
 "nbformat": 4,
 "nbformat_minor": 2
}
